{
 "cells": [
  {
   "cell_type": "markdown",
   "metadata": {},
   "source": [
    "#### @author Abel Mesfin Solomon  \n",
    "<li><i class=\"fa fa-envelope\" aria-hidden=\"true\"></i> : abelmesfin2003@gmail.com</li>\n",
    "<li><i class=\"fa fa-phone\" aria-hidden=\"true\"></i>  +3279339203</li>\n",
    "<li>Universita della calabria UNICAL </li>\n",
    "\n",
    "# Understanding Mnist dataset \n",
    "\n",
    "mnist dataset have 4 files which include 1000 test and label data and 5000 test data \n",
    "\n",
    "which are called :\n",
    "* Test Images : t10k-images-idx3-ubyte\n",
    "* Test Labels :  t10k-labels-idx1-ubyte\n",
    "* Train Images : train-images-idx3-ubyte\n",
    "* Train Labels :  train-labels-idx1-ubyte\n",
    "\n",
    "The files are binary encoded with IDX file format.\n",
    "IDX is a simple format for vectors and multidimensional matrices of various numerical types.\n",
    "\n",
    "lets first download and extract these files. you can use the code below or directly clone from mnist repository\n"
   ]
  },
  {
   "cell_type": "code",
   "execution_count": null,
   "metadata": {},
   "outputs": [
    {
     "name": "stdout",
     "output_type": "stream",
     "text": [
      "Downloading  train-images-idx3-ubyte.gz\n"
     ]
    }
   ],
   "source": [
    "import os,urllib.request\n",
    "\n",
    "# PROVIDE YOUR DOWNLOAD DIRECTORY HERE\n",
    "datapath = 'Data/MNISTData/'  \n",
    "\n",
    "# CREATING DOWNLOAD DIRECTORY\n",
    "if not os.path.exists(datapath):\n",
    "    os.makedirs(datapath)\n",
    "\n",
    "# URLS TO DOWNLOAD FROM\n",
    "urls = ['http://yann.lecun.com/exdb/mnist/train-images-idx3-ubyte.gz',\n",
    "       'http://yann.lecun.com/exdb/mnist/train-labels-idx1-ubyte.gz',\n",
    "       'http://yann.lecun.com/exdb/mnist/t10k-images-idx3-ubyte.gz',\n",
    "       'http://yann.lecun.com/exdb/mnist/t10k-labels-idx1-ubyte.gz']\n",
    "\n",
    "for url in urls:\n",
    "    filename = url.split('/')[-1]   # GET FILENAME\n",
    "    \n",
    "    if os.path.exists(datapath+filename):\n",
    "        print(filename, ' already exists')  # CHECK IF FILE EXISTS\n",
    "    else:\n",
    "        print('Downloading ',filename)\n",
    "        urllib.request.urlretrieve (url, datapath+filename) # DOWNLOAD FILE\n",
    "print('All files are available')"
   ]
  },
  {
   "cell_type": "markdown",
   "metadata": {},
   "source": [
    "## Extracting the downloaded files\n",
    "\n",
    "The downloaded files are in an archive format and needs to be extracted. It can be manually extracted using the GUI or the code segment below can also be used."
   ]
  },
  {
   "cell_type": "code",
   "execution_count": 19,
   "metadata": {},
   "outputs": [
    {
     "name": "stdout",
     "output_type": "stream",
     "text": [
      "Extracting  t10k-images-idx3-ubyte.gz\n",
      "Extracting  train-images-idx3-ubyte.gz\n",
      "Extracting  train-labels-idx1-ubyte.gz\n",
      "Extracting  t10k-labels-idx1-ubyte.gz\n",
      "Extraction Complete\n",
      "Removing  .DS_Store\n",
      "Removing  t10k-images-idx3-ubyte.gz\n",
      "Removing  train-images-idx3-ubyte.gz\n",
      "Removing  train-labels-idx1-ubyte.gz\n",
      "Removing  t10k-labels-idx1-ubyte.gz\n",
      "All archives removed\n"
     ]
    }
   ],
   "source": [
    "import os,gzip,shutil\n",
    "\n",
    "# PROVIDE YOUR DOWNLOAD DIRECTORY HERE\n",
    "datapath = 'Data/MNISTData/'  \n",
    "\n",
    "# LISTING ALL ARCHIVES IN THE DIRECTORY\n",
    "files = os.listdir(datapath)\n",
    "for file in files:\n",
    "    if file.endswith('gz'):\n",
    "        print('Extracting ',file)\n",
    "        with gzip.open(datapath+file, 'rb') as f_in:\n",
    "            with open(datapath+file.split('.')[0], 'wb') as f_out:\n",
    "                shutil.copyfileobj(f_in, f_out)\n",
    "print('Extraction Complete')\n",
    "\n",
    "# OPTIONAL REMOVE THE ARCHIVES\n",
    "for file in files:\n",
    "    print('Removing ',file)\n",
    "    os.remove(datapath+file)\n",
    "print ('All archives removed')"
   ]
  },
  {
   "cell_type": "markdown",
   "metadata": {},
   "source": [
    "in mnist dataset 2051 represents an image and 2049 represents the corsponding label for example:\n",
    "\n",
    "<img src=\"images/mnist2.png\" style=\"height:400px; width:500px;\"/>\n",
    "\n",
    "if you open one of the files manualy with text processors or development tools \n",
    "you end up with a long list of binary encoded data as shown in the fig below.\n",
    "\n",
    "<span style=\"color:red;\">0000 0803</span> <span style=\"color:green;\">0000 2710</span> <span style=\"color:blue;\">0000 001c</span> <span style=\"color:violet;\">0000 001c</span> <br>\n",
    "0000 0000 0000 0000 0000 0000 0000 0000 <br>\n",
    "0000 0000 0000 0000 0000 0000 0000 0000 <br>\n",
    "0000 0000 0000 0000 0000 0000 0000 0000 <br>\n",
    "0000 0000 0000 0000 0000 0000 0000 0000 <br>\n",
    "0000 0000 0000 0000 0000 0000 0000 0000 <br>\n",
    "0000 0000 0000 0000 0000 0000 0000 0000 <br>\n",
    "0000 0000 0000 0000 0000 0000 0000 0000 <br>\n",
    "0000 0000 0000 0000 0000 0000 0000 0000 <br>\n",
    "0000 0000 0000 0000 0000 0000 0000 0000 <br>\n",
    "\n",
    "\n",
    "\n",
    "<li>the first red values (0000 0803) represents data type on the given row infact you can \n",
    "see the decimal value of it using the code below</li>\n",
    "<li>the second values with green color represent the size(count) of the data </li>\n",
    "<li>the third values with blue color represent number of rows </li>\n",
    "<li> the last values with violet color represent number of columns</li>\n",
    "<li>The remaining 0 values represent actual image each with 28 boundery.in other words if the data have 1000 images all the encoding will have 78016 values on which the first 16 values represent information about the data as we seen above and the rest (28 * 28) a single image times the size which is 1000 represent the actual data\n",
    "28*28*1000+16=78016\n",
    "</li>\n",
    "\n",
    "\n"
   ]
  },
  {
   "cell_type": "code",
   "execution_count": 20,
   "metadata": {},
   "outputs": [
    {
     "name": "stdout",
     "output_type": "stream",
     "text": [
      "data_type : 2051\n",
      "size      : 10000\n",
      "rows      : 28\n",
      "cols      : 28\n"
     ]
    }
   ],
   "source": [
    "import os,codecs,numpy\n",
    "def get_int(b):   # CONVERTS 4 BYTES TO A INT\n",
    "    return int(codecs.encode(b, 'hex'), 16)\n",
    "\n",
    "data_type=get_int(b'\\x00\\x00\\x08\\x03')\n",
    "size=get_int(b'\\x00\\x00\\x27\\x10')\n",
    "rows=get_int(b'\\x00\\x00\\x00\\x1c')\n",
    "cols=get_int(b'\\x00\\x00\\x00\\x1c')\n",
    "\n",
    "print(\"data_type :\",data_type)\n",
    "print(\"size      :\",size)\n",
    "print(\"rows      :\",rows)\n",
    "print(\"cols      :\",cols)"
   ]
  },
  {
   "cell_type": "markdown",
   "metadata": {},
   "source": [
    "each image have 28 by 28 pixel.\n",
    "a pixel is generally thought of as the smallest single component of a digital image\n",
    "\n",
    "<img src=\"images/pixel.jpg\" style=\"height:400px; width:500px;\"/>\n",
    "\n",
    "here each square represents a single pixel 28 * 28\n",
    "\n",
    "lets see an example from the dataset keep in mind we represent the first 16 numbers as data descripters\n",
    "so we start from the 16 th offset."
   ]
  },
  {
   "cell_type": "code",
   "execution_count": 26,
   "metadata": {},
   "outputs": [
    {
     "name": "stdout",
     "output_type": "stream",
     "text": [
      "2051\n",
      "b'\\x00\\x00\\x08\\x03'\n",
      "10000\n",
      "t10k-images-id3-ubyte\n",
      "7840016\n",
      "(rows x col x number of images)+ magic_number \n",
      "(28 x 28 x 10000 )16\n",
      "7840016\n"
     ]
    },
    {
     "data": {
      "image/png": "[encoded data removed]",
      "text/plain": [
       "<Figure size 432x288 with 1 Axes>"
      ]
     },
     "metadata": {
      "needs_background": "light"
     },
     "output_type": "display_data"
    }
   ],
   "source": [
    "import numpy as np\n",
    "import matplotlib.pyplot as plt\n",
    "\n",
    "# PROVIDE YOUR DIRECTORY WITH THE EXTRACTED FILES HERE\n",
    "datapath = 'Data/MNISTData/'\n",
    "\n",
    "files = os.listdir(datapath)\n",
    "\n",
    "def get_int(b):   # CONVERTS 4 BYTES TO A INT\n",
    "    return int(codecs.encode(b, 'hex'), 16)\n",
    "\n",
    "def get_unint(b):   # CONVERTS 4 BYTES TO A INT\n",
    "    return int(codecs.encode(b, 'hex'), 16)\n",
    "\n",
    "with open (datapath+files[0],'rb') as f:\n",
    "    data= f.read()\n",
    "    print(get_int(data[:4]))\n",
    "    print(data[:4])\n",
    "    print(get_int(data[4:8]))\n",
    "    print(files[0].replace(\"x\",\"\"))\n",
    "    parsed = numpy.frombuffer(data,dtype = numpy.uint8, offset = 16)  # READ THE PIXEL VALUES AS INTEGERS\n",
    "    print(len(data))\n",
    "    \n",
    "    print(\"(rows x col x number of images)+ magic_number \")\n",
    "    print(\"(28 x 28 x 10000 )\"+\"16\")\n",
    "    print(\"7840016\")\n",
    "\n",
    "    z=[]\n",
    "    for x in range(0,756,28):\n",
    "        z.append(parsed[x:x+28])\n",
    "\n",
    "    \n",
    "    fig, ax = plt.subplots()\n",
    "    min_val, max_val = 0, 255\n",
    "\n",
    "    ax.matshow(z, cmap='gray')\n",
    "   \n"
   ]
  },
  {
   "cell_type": "code",
   "execution_count": null,
   "metadata": {},
   "outputs": [],
   "source": []
  }
 ],
 "metadata": {
  "kernelspec": {
   "display_name": "Python 3",
   "language": "python",
   "name": "python3"
  },
  "language_info": {
   "codemirror_mode": {
    "name": "ipython",
    "version": 3
   },
   "file_extension": ".py",
   "mimetype": "text/x-python",
   "name": "python",
   "nbconvert_exporter": "python",
   "pygments_lexer": "ipython3",
   "version": "3.7.1"
  }
 },
 "nbformat": 4,
 "nbformat_minor": 2
}
